{
 "cells": [
  {
   "cell_type": "code",
   "execution_count": 1,
   "id": "4e2e2ef6",
   "metadata": {},
   "outputs": [],
   "source": [
    "import tensorflow as tf"
   ]
  },
  {
   "cell_type": "code",
   "execution_count": 2,
   "id": "da8777a4",
   "metadata": {},
   "outputs": [
    {
     "data": {
      "text/plain": [
       "'2.13.0'"
      ]
     },
     "execution_count": 2,
     "metadata": {},
     "output_type": "execute_result"
    }
   ],
   "source": [
    "tf.__version__"
   ]
  },
  {
   "cell_type": "code",
   "execution_count": 3,
   "id": "fab7fe41",
   "metadata": {},
   "outputs": [],
   "source": [
    "import tensorflow.compat.v1 as tf"
   ]
  },
  {
   "cell_type": "code",
   "execution_count": 4,
   "id": "6ec32265",
   "metadata": {},
   "outputs": [
    {
     "name": "stdout",
     "output_type": "stream",
     "text": [
      "WARNING:tensorflow:From C:\\Users\\user\\anaconda3_a\\envs\\tensorflow\\lib\\site-packages\\tensorflow\\python\\compat\\v2_compat.py:107: disable_resource_variables (from tensorflow.python.ops.variable_scope) is deprecated and will be removed in a future version.\n",
      "Instructions for updating:\n",
      "non-resource variables are not supported in the long term\n"
     ]
    }
   ],
   "source": [
    "tf.disable_v2_behavior()"
   ]
  },
  {
   "cell_type": "code",
   "execution_count": 5,
   "id": "f51863fe",
   "metadata": {},
   "outputs": [
    {
     "data": {
      "text/plain": [
       "<tf.Tensor 'Const:0' shape=() dtype=int32>"
      ]
     },
     "execution_count": 5,
     "metadata": {},
     "output_type": "execute_result"
    }
   ],
   "source": [
    "one = tf.constant(1)\n",
    "one"
   ]
  },
  {
   "cell_type": "code",
   "execution_count": 6,
   "id": "b7d8b2b4",
   "metadata": {},
   "outputs": [
    {
     "data": {
      "text/plain": [
       "<tf.Variable 'Variable:0' shape=() dtype=int32_ref>"
      ]
     },
     "execution_count": 6,
     "metadata": {},
     "output_type": "execute_result"
    }
   ],
   "source": [
    "two = tf.Variable(2)\n",
    "two"
   ]
  },
  {
   "cell_type": "code",
   "execution_count": 7,
   "id": "508635c2",
   "metadata": {},
   "outputs": [
    {
     "data": {
      "text/plain": [
       "<tf.Tensor 'Add:0' shape=() dtype=int32>"
      ]
     },
     "execution_count": 7,
     "metadata": {},
     "output_type": "execute_result"
    }
   ],
   "source": [
    "new_variable = tf.add(one,two)  # added constant and variable\n",
    "new_variable"
   ]
  },
  {
   "cell_type": "code",
   "execution_count": 8,
   "id": "c71b0f8f",
   "metadata": {},
   "outputs": [
    {
     "data": {
      "text/plain": [
       "<tf.Tensor 'Assign:0' shape=() dtype=int32_ref>"
      ]
     },
     "execution_count": 8,
     "metadata": {},
     "output_type": "execute_result"
    }
   ],
   "source": [
    "# variable value can be changed:\n",
    "updated = tf.assign(two,new_variable)\n",
    "updated"
   ]
  },
  {
   "cell_type": "code",
   "execution_count": 9,
   "id": "0d410f70",
   "metadata": {},
   "outputs": [],
   "source": [
    "# Initialization Step:\n",
    "# init_op = tf.initialize_all_variables()\n",
    "init_op = tf.global_variables_initializer()  # Standard initializer=> initialises all codes"
   ]
  },
  {
   "cell_type": "code",
   "execution_count": 10,
   "id": "a4db1d36",
   "metadata": {},
   "outputs": [],
   "source": [
    "# Create A Session :\n",
    "sess = tf.Session()         # sess.close() => Closes/ends the session =>check ln 38 for application"
   ]
  },
  {
   "cell_type": "code",
   "execution_count": 11,
   "id": "5201536e",
   "metadata": {},
   "outputs": [],
   "source": [
    "# initialize variables :\n",
    "sess.run(init_op)"
   ]
  },
  {
   "cell_type": "code",
   "execution_count": 12,
   "id": "14c9b0f8",
   "metadata": {},
   "outputs": [
    {
     "name": "stdout",
     "output_type": "stream",
     "text": [
      "2\n"
     ]
    }
   ],
   "source": [
    "print(sess.run(two))"
   ]
  },
  {
   "cell_type": "code",
   "execution_count": 13,
   "id": "db199676",
   "metadata": {},
   "outputs": [],
   "source": [
    "# =============== New Outlook ============="
   ]
  },
  {
   "cell_type": "code",
   "execution_count": 14,
   "id": "21fabf43",
   "metadata": {},
   "outputs": [
    {
     "data": {
      "text/plain": [
       "<tf.Variable 'Variable_1:0' shape=() dtype=int32_ref>"
      ]
     },
     "execution_count": 14,
     "metadata": {},
     "output_type": "execute_result"
    }
   ],
   "source": [
    "# 1. Create A Variable:\n",
    "zero = tf.Variable(0)\n",
    "zero"
   ]
  },
  {
   "cell_type": "code",
   "execution_count": 15,
   "id": "86551450",
   "metadata": {},
   "outputs": [
    {
     "data": {
      "text/plain": [
       "<tf.Tensor 'Const_1:0' shape=() dtype=int32>"
      ]
     },
     "execution_count": 15,
     "metadata": {},
     "output_type": "execute_result"
    }
   ],
   "source": [
    "# 2. Create A Constant :\n",
    "one = tf.constant(1)\n",
    "one"
   ]
  },
  {
   "cell_type": "code",
   "execution_count": 16,
   "id": "ecc84465",
   "metadata": {},
   "outputs": [
    {
     "data": {
      "text/plain": [
       "<tf.Tensor 'Add_1:0' shape=() dtype=int32>"
      ]
     },
     "execution_count": 16,
     "metadata": {},
     "output_type": "execute_result"
    }
   ],
   "source": [
    "# 3. Do An operation:\n",
    "new_value = tf.add(zero,one)\n",
    "new_value"
   ]
  },
  {
   "cell_type": "code",
   "execution_count": 17,
   "id": "709bbb70",
   "metadata": {},
   "outputs": [
    {
     "data": {
      "text/plain": [
       "<tf.Tensor 'Assign_1:0' shape=() dtype=int32_ref>"
      ]
     },
     "execution_count": 17,
     "metadata": {},
     "output_type": "execute_result"
    }
   ],
   "source": [
    "# 4. Change value of a variable:\n",
    "updated = tf.assign(zero,new_value)\n",
    "updated"
   ]
  },
  {
   "cell_type": "code",
   "execution_count": 18,
   "id": "9bb342e3",
   "metadata": {},
   "outputs": [],
   "source": [
    "# 5. Let's see what happens if we change value of constant:\n",
    "# update_constant = tf.assign(one, ten)     #Error Message"
   ]
  },
  {
   "cell_type": "code",
   "execution_count": 19,
   "id": "989c8854",
   "metadata": {},
   "outputs": [],
   "source": [
    "# 6. Initialization Step:\n",
    "# init_op = tf.initialize_all_variables()\n",
    "init_op = tf.global_variables_initializer()  # Standard initializer=> initialises all codes   #i"
   ]
  },
  {
   "cell_type": "code",
   "execution_count": 20,
   "id": "1536f236",
   "metadata": {},
   "outputs": [],
   "source": [
    "# 7. Create A Session:\n",
    "sess = tf.Session()"
   ]
  },
  {
   "cell_type": "code",
   "execution_count": 21,
   "id": "908c6420",
   "metadata": {},
   "outputs": [],
   "source": [
    "# 8a. Initialize variables:\n",
    "sess.run(init_op)                                                                            #ii"
   ]
  },
  {
   "cell_type": "code",
   "execution_count": 22,
   "id": "9e568184",
   "metadata": {},
   "outputs": [
    {
     "name": "stdout",
     "output_type": "stream",
     "text": [
      "0\n"
     ]
    }
   ],
   "source": [
    "# 8b. \n",
    "print(sess.run(zero))"
   ]
  },
  {
   "cell_type": "code",
   "execution_count": 23,
   "id": "c33d828e",
   "metadata": {},
   "outputs": [
    {
     "name": "stdout",
     "output_type": "stream",
     "text": [
      "30.0\n"
     ]
    }
   ],
   "source": [
    "# Launch the graph in a session.\n",
    "with tf.compat.v1.Session() as sess:\n",
    "    \n",
    "# Build a graph.\n",
    "    a = tf.constant(5.0)\n",
    "    b = tf.constant(6.0)\n",
    "    c = a * b\n",
    "\n",
    "# Evaluate the tensor `c`.\n",
    "    print(sess.run(c))"
   ]
  },
  {
   "cell_type": "code",
   "execution_count": 24,
   "id": "de001549",
   "metadata": {},
   "outputs": [],
   "source": [
    "# ==========For loop: ==========="
   ]
  },
  {
   "cell_type": "code",
   "execution_count": null,
   "id": "4709054e",
   "metadata": {},
   "outputs": [],
   "source": []
  },
  {
   "cell_type": "code",
   "execution_count": 25,
   "id": "2be93cda",
   "metadata": {},
   "outputs": [
    {
     "data": {
      "text/plain": [
       "<tf.Variable 'Variable_2:0' shape=() dtype=int32_ref>"
      ]
     },
     "execution_count": 25,
     "metadata": {},
     "output_type": "execute_result"
    }
   ],
   "source": [
    "zero = tf.Variable(0)\n",
    "zero"
   ]
  },
  {
   "cell_type": "code",
   "execution_count": 26,
   "id": "464954d9",
   "metadata": {},
   "outputs": [
    {
     "data": {
      "text/plain": [
       "<tf.Tensor 'Const_4:0' shape=() dtype=int32>"
      ]
     },
     "execution_count": 26,
     "metadata": {},
     "output_type": "execute_result"
    }
   ],
   "source": [
    "one = tf.constant(1)\n",
    "one"
   ]
  },
  {
   "cell_type": "code",
   "execution_count": 27,
   "id": "1ab3bf97",
   "metadata": {},
   "outputs": [
    {
     "data": {
      "text/plain": [
       "<tf.Tensor 'Add_2:0' shape=() dtype=int32>"
      ]
     },
     "execution_count": 27,
     "metadata": {},
     "output_type": "execute_result"
    }
   ],
   "source": [
    "new_value = tf.add(zero,one)\n",
    "new_value"
   ]
  },
  {
   "cell_type": "code",
   "execution_count": 28,
   "id": "00baf3fd",
   "metadata": {},
   "outputs": [
    {
     "data": {
      "text/plain": [
       "<tf.Tensor 'Assign_2:0' shape=() dtype=int32_ref>"
      ]
     },
     "execution_count": 28,
     "metadata": {},
     "output_type": "execute_result"
    }
   ],
   "source": [
    "updated = tf.assign(zero,new_value)\n",
    "updated"
   ]
  },
  {
   "cell_type": "code",
   "execution_count": 29,
   "id": "c19083bd",
   "metadata": {},
   "outputs": [],
   "source": [
    "sess = tf.Session()"
   ]
  },
  {
   "cell_type": "markdown",
   "id": "81044020",
   "metadata": {},
   "source": [
    "#### Placeholder"
   ]
  },
  {
   "cell_type": "code",
   "execution_count": 30,
   "id": "4648a172",
   "metadata": {},
   "outputs": [],
   "source": [
    "import tensorflow.compat.v1 as tf"
   ]
  },
  {
   "cell_type": "code",
   "execution_count": 31,
   "id": "0b2596f9",
   "metadata": {},
   "outputs": [],
   "source": [
    "tf.disable_v2_behavior()"
   ]
  },
  {
   "cell_type": "code",
   "execution_count": 32,
   "id": "2d1a4f29",
   "metadata": {},
   "outputs": [],
   "source": [
    "a = tf.placeholder(tf.float32)"
   ]
  },
  {
   "cell_type": "code",
   "execution_count": 33,
   "id": "9ed53a42",
   "metadata": {},
   "outputs": [],
   "source": [
    "b = a*2"
   ]
  },
  {
   "cell_type": "markdown",
   "id": "1adce108",
   "metadata": {},
   "source": [
    "Feeding a Placeholder with a Scalar:"
   ]
  },
  {
   "cell_type": "code",
   "execution_count": 34,
   "id": "3f144685",
   "metadata": {},
   "outputs": [],
   "source": [
    "sess = tf.Session()"
   ]
  },
  {
   "cell_type": "code",
   "execution_count": 35,
   "id": "d369519e",
   "metadata": {},
   "outputs": [
    {
     "name": "stdout",
     "output_type": "stream",
     "text": [
      "6.0\n"
     ]
    }
   ],
   "source": [
    "result = sess.run(b, feed_dict={a:3})\n",
    "#result = sess.run(b,{a:3})\n",
    "print(result)"
   ]
  },
  {
   "cell_type": "markdown",
   "id": "616991a9",
   "metadata": {},
   "source": [
    "Feeding a Placeholder with a Vector"
   ]
  },
  {
   "cell_type": "code",
   "execution_count": 36,
   "id": "6f1f82e5",
   "metadata": {},
   "outputs": [
    {
     "name": "stdout",
     "output_type": "stream",
     "text": [
      "[ 6.  8. 10.]\n"
     ]
    }
   ],
   "source": [
    "result = sess.run(b,feed_dict={a:[3,4,5]})\n",
    "print(result)"
   ]
  },
  {
   "cell_type": "markdown",
   "id": "4bea31b0",
   "metadata": {},
   "source": [
    "Feeding a placeholder with  multidimensional Vector:"
   ]
  },
  {
   "cell_type": "code",
   "execution_count": 37,
   "id": "6456c993",
   "metadata": {},
   "outputs": [
    {
     "name": "stdout",
     "output_type": "stream",
     "text": [
      "[[ 2.  4.  6.]\n",
      " [ 8. 10. 12.]\n",
      " [14. 16. 18.]\n",
      " [20. 22. 24.]\n",
      " [26. 28. 30.]\n",
      " [32. 34. 36.]\n",
      " [38. 40. 42.]\n",
      " [44. 46. 48.]]\n"
     ]
    }
   ],
   "source": [
    "dictionary = {a:[[1,2,3],[4,5,6],[7,8,9],[10,11,12],[13,14,15],[16,17,18],[19,20,21],[22,23,24]]}\n",
    "result = sess.run(b,feed_dict = dictionary)\n",
    "print(result)"
   ]
  },
  {
   "cell_type": "code",
   "execution_count": 38,
   "id": "a6c8111e",
   "metadata": {},
   "outputs": [],
   "source": [
    "sess.close()"
   ]
  },
  {
   "cell_type": "markdown",
   "id": "44c388cf",
   "metadata": {},
   "source": [
    "#### Syntax For Creating Session- ('with' block) :"
   ]
  },
  {
   "cell_type": "code",
   "execution_count": 39,
   "id": "d6136237",
   "metadata": {},
   "outputs": [],
   "source": [
    "hello = tf.constant('Hello ')"
   ]
  },
  {
   "cell_type": "code",
   "execution_count": 40,
   "id": "b686388e",
   "metadata": {},
   "outputs": [],
   "source": [
    "world = tf.constant('World')"
   ]
  },
  {
   "cell_type": "code",
   "execution_count": 41,
   "id": "5bc6f41e",
   "metadata": {},
   "outputs": [],
   "source": [
    "result = hello + world"
   ]
  },
  {
   "cell_type": "code",
   "execution_count": 42,
   "id": "cc6ec26c",
   "metadata": {},
   "outputs": [
    {
     "name": "stdout",
     "output_type": "stream",
     "text": [
      "b'Hello World'\n"
     ]
    }
   ],
   "source": [
    "# Common syntax for Session is :\n",
    "with tf.Session() as sess:\n",
    "    result = sess.run(hello + world)\n",
    "    print(result)"
   ]
  },
  {
   "cell_type": "code",
   "execution_count": 43,
   "id": "48ff512f",
   "metadata": {},
   "outputs": [],
   "source": [
    "# === Graphs ===="
   ]
  },
  {
   "cell_type": "code",
   "execution_count": 44,
   "id": "2ad6bab0",
   "metadata": {},
   "outputs": [
    {
     "data": {
      "text/plain": [
       "[<tf.Operation 'Const' type=Const>,\n",
       " <tf.Operation 'Variable/initial_value' type=Const>,\n",
       " <tf.Operation 'Variable' type=VariableV2>,\n",
       " <tf.Operation 'Variable/Assign' type=Assign>,\n",
       " <tf.Operation 'Variable/read' type=Identity>,\n",
       " <tf.Operation 'Add' type=AddV2>,\n",
       " <tf.Operation 'Assign' type=Assign>,\n",
       " <tf.Operation 'init' type=NoOp>,\n",
       " <tf.Operation 'Variable_1/initial_value' type=Const>,\n",
       " <tf.Operation 'Variable_1' type=VariableV2>,\n",
       " <tf.Operation 'Variable_1/Assign' type=Assign>,\n",
       " <tf.Operation 'Variable_1/read' type=Identity>,\n",
       " <tf.Operation 'Const_1' type=Const>,\n",
       " <tf.Operation 'Add_1' type=AddV2>,\n",
       " <tf.Operation 'Assign_1' type=Assign>,\n",
       " <tf.Operation 'init_1' type=NoOp>,\n",
       " <tf.Operation 'Const_2' type=Const>,\n",
       " <tf.Operation 'Const_3' type=Const>,\n",
       " <tf.Operation 'mul' type=Mul>,\n",
       " <tf.Operation 'Variable_2/initial_value' type=Const>,\n",
       " <tf.Operation 'Variable_2' type=VariableV2>,\n",
       " <tf.Operation 'Variable_2/Assign' type=Assign>,\n",
       " <tf.Operation 'Variable_2/read' type=Identity>,\n",
       " <tf.Operation 'Const_4' type=Const>,\n",
       " <tf.Operation 'Add_2' type=AddV2>,\n",
       " <tf.Operation 'Assign_2' type=Assign>,\n",
       " <tf.Operation 'Placeholder' type=Placeholder>,\n",
       " <tf.Operation 'mul_1/y' type=Const>,\n",
       " <tf.Operation 'mul_1' type=Mul>,\n",
       " <tf.Operation 'Const_5' type=Const>,\n",
       " <tf.Operation 'Const_6' type=Const>,\n",
       " <tf.Operation 'add_3' type=Add>,\n",
       " <tf.Operation 'add_4' type=Add>]"
      ]
     },
     "execution_count": 44,
     "metadata": {},
     "output_type": "execute_result"
    }
   ],
   "source": [
    "graph = tf.get_default_graph()\n",
    "graph.get_operations()"
   ]
  },
  {
   "cell_type": "code",
   "execution_count": null,
   "id": "a3308d3c",
   "metadata": {},
   "outputs": [],
   "source": []
  },
  {
   "cell_type": "code",
   "execution_count": null,
   "id": "4c253a5f",
   "metadata": {},
   "outputs": [],
   "source": []
  }
 ],
 "metadata": {
  "kernelspec": {
   "display_name": "Python 3 (ipykernel)",
   "language": "python",
   "name": "python3"
  },
  "language_info": {
   "codemirror_mode": {
    "name": "ipython",
    "version": 3
   },
   "file_extension": ".py",
   "mimetype": "text/x-python",
   "name": "python",
   "nbconvert_exporter": "python",
   "pygments_lexer": "ipython3",
   "version": "3.11.9"
  }
 },
 "nbformat": 4,
 "nbformat_minor": 5
}
